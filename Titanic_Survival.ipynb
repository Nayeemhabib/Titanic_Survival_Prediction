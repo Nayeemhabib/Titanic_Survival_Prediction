{
  "nbformat": 4,
  "nbformat_minor": 0,
  "metadata": {
    "colab": {
      "provenance": [],
      "gpuType": "T4",
      "authorship_tag": "ABX9TyNpxwmLvuCNMIVfNp2CrqO4",
      "include_colab_link": true
    },
    "kernelspec": {
      "name": "python3",
      "display_name": "Python 3"
    },
    "language_info": {
      "name": "python"
    },
    "accelerator": "GPU"
  },
  "cells": [
    {
      "cell_type": "markdown",
      "metadata": {
        "id": "view-in-github",
        "colab_type": "text"
      },
      "source": [
        "<a href=\"https://colab.research.google.com/github/Nayeemhabib/Titanic_Survival_Prediction/blob/main/Titanic_Survival.ipynb\" target=\"_parent\"><img src=\"https://colab.research.google.com/assets/colab-badge.svg\" alt=\"Open In Colab\"/></a>"
      ]
    },
    {
      "cell_type": "code",
      "execution_count": 1,
      "metadata": {
        "id": "ngaXTQaXgz9I"
      },
      "outputs": [],
      "source": [
        "# Importing all requires liberaries\n",
        "import pandas as pd\n",
        "import numpy as np\n",
        "import matplotlib\n",
        "import matplotlib.pyplot as plt\n",
        "from pandas.plotting import scatter_matrix\n",
        "\n",
        "import seaborn as sns\n",
        "sns.set(style = \"white\", color_codes = True)\n",
        "sns.set(font_scale = 1.5)\n",
        "from sklearn.linear_model import LogisticRegression\n",
        "from sklearn.model_selection import train_test_split\n",
        "\n",
        "from sklearn.metrics import confusion_matrix\n",
        "from sklearn.metrics import classification_report\n",
        "from sklearn.metrics import confusion_matrix\n",
        "from sklearn.metrics import accuracy_score\n",
        "from sklearn.metrics import precision_score\n",
        "from sklearn.metrics import recall_score\n",
        "from sklearn.metrics import f1_score\n",
        "from sklearn import metrics"
      ]
    },
    {
      "cell_type": "code",
      "source": [
        "df_train = pd.read_csv(\"titanic_dataset.csv\")\n",
        "df_train.shape"
      ],
      "metadata": {
        "colab": {
          "base_uri": "https://localhost:8080/"
        },
        "id": "UCj04T9uhFZl",
        "outputId": "724bcf70-d9c4-41ca-edd7-e9257ba4bccc"
      },
      "execution_count": 4,
      "outputs": [
        {
          "output_type": "execute_result",
          "data": {
            "text/plain": [
              "(891, 12)"
            ]
          },
          "metadata": {},
          "execution_count": 4
        }
      ]
    },
    {
      "cell_type": "code",
      "source": [
        "df_train.Survived.value_counts()"
      ],
      "metadata": {
        "colab": {
          "base_uri": "https://localhost:8080/"
        },
        "id": "QhI6geaXhjDk",
        "outputId": "5d8f581c-d57d-4761-b6bd-eb64441917fd"
      },
      "execution_count": 5,
      "outputs": [
        {
          "output_type": "execute_result",
          "data": {
            "text/plain": [
              "0    549\n",
              "1    342\n",
              "Name: Survived, dtype: int64"
            ]
          },
          "metadata": {},
          "execution_count": 5
        }
      ]
    },
    {
      "cell_type": "code",
      "source": [
        "df_train.Sex.value_counts()"
      ],
      "metadata": {
        "colab": {
          "base_uri": "https://localhost:8080/"
        },
        "id": "RTtL2s10i5z6",
        "outputId": "0206bfbe-ae39-4511-cab7-a2d303bd3bad"
      },
      "execution_count": 6,
      "outputs": [
        {
          "output_type": "execute_result",
          "data": {
            "text/plain": [
              "male      577\n",
              "female    314\n",
              "Name: Sex, dtype: int64"
            ]
          },
          "metadata": {},
          "execution_count": 6
        }
      ]
    },
    {
      "cell_type": "code",
      "source": [
        "#S = Southhempton, #C= Cherborg, #Q = Quinstown.\n",
        "df_train.Embarked.value_counts()"
      ],
      "metadata": {
        "colab": {
          "base_uri": "https://localhost:8080/"
        },
        "id": "9LtjiKtpi-C-",
        "outputId": "598cdbf1-942a-4f7b-9cb8-363210b46b68"
      },
      "execution_count": 7,
      "outputs": [
        {
          "output_type": "execute_result",
          "data": {
            "text/plain": [
              "S    644\n",
              "C    168\n",
              "Q     77\n",
              "Name: Embarked, dtype: int64"
            ]
          },
          "metadata": {},
          "execution_count": 7
        }
      ]
    },
    {
      "cell_type": "code",
      "source": [
        "# checking the null values in the data set as they reduce the performance of our model\n",
        "df_train.isnull().sum()"
      ],
      "metadata": {
        "colab": {
          "base_uri": "https://localhost:8080/"
        },
        "id": "swo7lLnijsWY",
        "outputId": "3d0dcb31-4331-453a-e7c8-5349ea40fc39"
      },
      "execution_count": 8,
      "outputs": [
        {
          "output_type": "execute_result",
          "data": {
            "text/plain": [
              "PassengerId      0\n",
              "Survived         0\n",
              "Pclass           0\n",
              "Name             0\n",
              "Sex              0\n",
              "Age            177\n",
              "SibSp            0\n",
              "Parch            0\n",
              "Ticket           0\n",
              "Fare             0\n",
              "Cabin          687\n",
              "Embarked         2\n",
              "dtype: int64"
            ]
          },
          "metadata": {},
          "execution_count": 8
        }
      ]
    },
    {
      "cell_type": "code",
      "source": [
        "# Passanger Name, PassengerId and Ticket are the Data variables for predicting the survivalibiltiy of the passenegers.\n",
        "df_train = df_train.drop(['PassengerId', 'Name', 'Ticket', 'Cabin'], axis=1)\n",
        "df_train.head()"
      ],
      "metadata": {
        "colab": {
          "base_uri": "https://localhost:8080/",
          "height": 206
        },
        "id": "83wDlpeek0xs",
        "outputId": "ccc81b9c-49dd-4e6f-9991-a10466376f3b"
      },
      "execution_count": 9,
      "outputs": [
        {
          "output_type": "execute_result",
          "data": {
            "text/plain": [
              "   Survived  Pclass     Sex   Age  SibSp  Parch     Fare Embarked\n",
              "0         0       3    male  22.0      1      0   7.2500        S\n",
              "1         1       1  female  38.0      1      0  71.2833        C\n",
              "2         1       3  female  26.0      0      0   7.9250        S\n",
              "3         1       1  female  35.0      1      0  53.1000        S\n",
              "4         0       3    male  35.0      0      0   8.0500        S"
            ],
            "text/html": [
              "\n",
              "\n",
              "  <div id=\"df-15fca344-adb5-4a37-a6ab-2942ea4227a7\">\n",
              "    <div class=\"colab-df-container\">\n",
              "      <div>\n",
              "<style scoped>\n",
              "    .dataframe tbody tr th:only-of-type {\n",
              "        vertical-align: middle;\n",
              "    }\n",
              "\n",
              "    .dataframe tbody tr th {\n",
              "        vertical-align: top;\n",
              "    }\n",
              "\n",
              "    .dataframe thead th {\n",
              "        text-align: right;\n",
              "    }\n",
              "</style>\n",
              "<table border=\"1\" class=\"dataframe\">\n",
              "  <thead>\n",
              "    <tr style=\"text-align: right;\">\n",
              "      <th></th>\n",
              "      <th>Survived</th>\n",
              "      <th>Pclass</th>\n",
              "      <th>Sex</th>\n",
              "      <th>Age</th>\n",
              "      <th>SibSp</th>\n",
              "      <th>Parch</th>\n",
              "      <th>Fare</th>\n",
              "      <th>Embarked</th>\n",
              "    </tr>\n",
              "  </thead>\n",
              "  <tbody>\n",
              "    <tr>\n",
              "      <th>0</th>\n",
              "      <td>0</td>\n",
              "      <td>3</td>\n",
              "      <td>male</td>\n",
              "      <td>22.0</td>\n",
              "      <td>1</td>\n",
              "      <td>0</td>\n",
              "      <td>7.2500</td>\n",
              "      <td>S</td>\n",
              "    </tr>\n",
              "    <tr>\n",
              "      <th>1</th>\n",
              "      <td>1</td>\n",
              "      <td>1</td>\n",
              "      <td>female</td>\n",
              "      <td>38.0</td>\n",
              "      <td>1</td>\n",
              "      <td>0</td>\n",
              "      <td>71.2833</td>\n",
              "      <td>C</td>\n",
              "    </tr>\n",
              "    <tr>\n",
              "      <th>2</th>\n",
              "      <td>1</td>\n",
              "      <td>3</td>\n",
              "      <td>female</td>\n",
              "      <td>26.0</td>\n",
              "      <td>0</td>\n",
              "      <td>0</td>\n",
              "      <td>7.9250</td>\n",
              "      <td>S</td>\n",
              "    </tr>\n",
              "    <tr>\n",
              "      <th>3</th>\n",
              "      <td>1</td>\n",
              "      <td>1</td>\n",
              "      <td>female</td>\n",
              "      <td>35.0</td>\n",
              "      <td>1</td>\n",
              "      <td>0</td>\n",
              "      <td>53.1000</td>\n",
              "      <td>S</td>\n",
              "    </tr>\n",
              "    <tr>\n",
              "      <th>4</th>\n",
              "      <td>0</td>\n",
              "      <td>3</td>\n",
              "      <td>male</td>\n",
              "      <td>35.0</td>\n",
              "      <td>0</td>\n",
              "      <td>0</td>\n",
              "      <td>8.0500</td>\n",
              "      <td>S</td>\n",
              "    </tr>\n",
              "  </tbody>\n",
              "</table>\n",
              "</div>\n",
              "      <button class=\"colab-df-convert\" onclick=\"convertToInteractive('df-15fca344-adb5-4a37-a6ab-2942ea4227a7')\"\n",
              "              title=\"Convert this dataframe to an interactive table.\"\n",
              "              style=\"display:none;\">\n",
              "\n",
              "  <svg xmlns=\"http://www.w3.org/2000/svg\" height=\"24px\"viewBox=\"0 0 24 24\"\n",
              "       width=\"24px\">\n",
              "    <path d=\"M0 0h24v24H0V0z\" fill=\"none\"/>\n",
              "    <path d=\"M18.56 5.44l.94 2.06.94-2.06 2.06-.94-2.06-.94-.94-2.06-.94 2.06-2.06.94zm-11 1L8.5 8.5l.94-2.06 2.06-.94-2.06-.94L8.5 2.5l-.94 2.06-2.06.94zm10 10l.94 2.06.94-2.06 2.06-.94-2.06-.94-.94-2.06-.94 2.06-2.06.94z\"/><path d=\"M17.41 7.96l-1.37-1.37c-.4-.4-.92-.59-1.43-.59-.52 0-1.04.2-1.43.59L10.3 9.45l-7.72 7.72c-.78.78-.78 2.05 0 2.83L4 21.41c.39.39.9.59 1.41.59.51 0 1.02-.2 1.41-.59l7.78-7.78 2.81-2.81c.8-.78.8-2.07 0-2.86zM5.41 20L4 18.59l7.72-7.72 1.47 1.35L5.41 20z\"/>\n",
              "  </svg>\n",
              "      </button>\n",
              "\n",
              "\n",
              "\n",
              "    <div id=\"df-e3489cc2-6314-4b7a-9919-60e9dabcc623\">\n",
              "      <button class=\"colab-df-quickchart\" onclick=\"quickchart('df-e3489cc2-6314-4b7a-9919-60e9dabcc623')\"\n",
              "              title=\"Suggest charts.\"\n",
              "              style=\"display:none;\">\n",
              "\n",
              "<svg xmlns=\"http://www.w3.org/2000/svg\" height=\"24px\"viewBox=\"0 0 24 24\"\n",
              "     width=\"24px\">\n",
              "    <g>\n",
              "        <path d=\"M19 3H5c-1.1 0-2 .9-2 2v14c0 1.1.9 2 2 2h14c1.1 0 2-.9 2-2V5c0-1.1-.9-2-2-2zM9 17H7v-7h2v7zm4 0h-2V7h2v10zm4 0h-2v-4h2v4z\"/>\n",
              "    </g>\n",
              "</svg>\n",
              "      </button>\n",
              "    </div>\n",
              "\n",
              "<style>\n",
              "  .colab-df-quickchart {\n",
              "    background-color: #E8F0FE;\n",
              "    border: none;\n",
              "    border-radius: 50%;\n",
              "    cursor: pointer;\n",
              "    display: none;\n",
              "    fill: #1967D2;\n",
              "    height: 32px;\n",
              "    padding: 0 0 0 0;\n",
              "    width: 32px;\n",
              "  }\n",
              "\n",
              "  .colab-df-quickchart:hover {\n",
              "    background-color: #E2EBFA;\n",
              "    box-shadow: 0px 1px 2px rgba(60, 64, 67, 0.3), 0px 1px 3px 1px rgba(60, 64, 67, 0.15);\n",
              "    fill: #174EA6;\n",
              "  }\n",
              "\n",
              "  [theme=dark] .colab-df-quickchart {\n",
              "    background-color: #3B4455;\n",
              "    fill: #D2E3FC;\n",
              "  }\n",
              "\n",
              "  [theme=dark] .colab-df-quickchart:hover {\n",
              "    background-color: #434B5C;\n",
              "    box-shadow: 0px 1px 3px 1px rgba(0, 0, 0, 0.15);\n",
              "    filter: drop-shadow(0px 1px 2px rgba(0, 0, 0, 0.3));\n",
              "    fill: #FFFFFF;\n",
              "  }\n",
              "</style>\n",
              "\n",
              "    <script>\n",
              "      async function quickchart(key) {\n",
              "        const containerElement = document.querySelector('#' + key);\n",
              "        const charts = await google.colab.kernel.invokeFunction(\n",
              "            'suggestCharts', [key], {});\n",
              "      }\n",
              "    </script>\n",
              "\n",
              "      <script>\n",
              "\n",
              "function displayQuickchartButton(domScope) {\n",
              "  let quickchartButtonEl =\n",
              "    domScope.querySelector('#df-e3489cc2-6314-4b7a-9919-60e9dabcc623 button.colab-df-quickchart');\n",
              "  quickchartButtonEl.style.display =\n",
              "    google.colab.kernel.accessAllowed ? 'block' : 'none';\n",
              "}\n",
              "\n",
              "        displayQuickchartButton(document);\n",
              "      </script>\n",
              "      <style>\n",
              "    .colab-df-container {\n",
              "      display:flex;\n",
              "      flex-wrap:wrap;\n",
              "      gap: 12px;\n",
              "    }\n",
              "\n",
              "    .colab-df-convert {\n",
              "      background-color: #E8F0FE;\n",
              "      border: none;\n",
              "      border-radius: 50%;\n",
              "      cursor: pointer;\n",
              "      display: none;\n",
              "      fill: #1967D2;\n",
              "      height: 32px;\n",
              "      padding: 0 0 0 0;\n",
              "      width: 32px;\n",
              "    }\n",
              "\n",
              "    .colab-df-convert:hover {\n",
              "      background-color: #E2EBFA;\n",
              "      box-shadow: 0px 1px 2px rgba(60, 64, 67, 0.3), 0px 1px 3px 1px rgba(60, 64, 67, 0.15);\n",
              "      fill: #174EA6;\n",
              "    }\n",
              "\n",
              "    [theme=dark] .colab-df-convert {\n",
              "      background-color: #3B4455;\n",
              "      fill: #D2E3FC;\n",
              "    }\n",
              "\n",
              "    [theme=dark] .colab-df-convert:hover {\n",
              "      background-color: #434B5C;\n",
              "      box-shadow: 0px 1px 3px 1px rgba(0, 0, 0, 0.15);\n",
              "      filter: drop-shadow(0px 1px 2px rgba(0, 0, 0, 0.3));\n",
              "      fill: #FFFFFF;\n",
              "    }\n",
              "  </style>\n",
              "\n",
              "      <script>\n",
              "        const buttonEl =\n",
              "          document.querySelector('#df-15fca344-adb5-4a37-a6ab-2942ea4227a7 button.colab-df-convert');\n",
              "        buttonEl.style.display =\n",
              "          google.colab.kernel.accessAllowed ? 'block' : 'none';\n",
              "\n",
              "        async function convertToInteractive(key) {\n",
              "          const element = document.querySelector('#df-15fca344-adb5-4a37-a6ab-2942ea4227a7');\n",
              "          const dataTable =\n",
              "            await google.colab.kernel.invokeFunction('convertToInteractive',\n",
              "                                                     [key], {});\n",
              "          if (!dataTable) return;\n",
              "\n",
              "          const docLinkHtml = 'Like what you see? Visit the ' +\n",
              "            '<a target=\"_blank\" href=https://colab.research.google.com/notebooks/data_table.ipynb>data table notebook</a>'\n",
              "            + ' to learn more about interactive tables.';\n",
              "          element.innerHTML = '';\n",
              "          dataTable['output_type'] = 'display_data';\n",
              "          await google.colab.output.renderOutput(dataTable, element);\n",
              "          const docLink = document.createElement('div');\n",
              "          docLink.innerHTML = docLinkHtml;\n",
              "          element.appendChild(docLink);\n",
              "        }\n",
              "      </script>\n",
              "    </div>\n",
              "  </div>\n"
            ]
          },
          "metadata": {},
          "execution_count": 9
        }
      ]
    },
    {
      "cell_type": "code",
      "source": [
        "# by dealing with the missing vlaues and age varoiables.\n",
        "def age_approx(cols):\n",
        "    Age = cols[0]\n",
        "    Pclass = cols[1]\n",
        "    if pd.isnull(Age):\n",
        "        if Pclass ==1:\n",
        "            return 37\n",
        "        elif Pclass ==2:\n",
        "            return 29\n",
        "        else:\n",
        "            return 24\n",
        "    else:\n",
        "        return Age"
      ],
      "metadata": {
        "id": "wRQ1tkVSnH4B"
      },
      "execution_count": 10,
      "outputs": []
    },
    {
      "cell_type": "code",
      "source": [
        "df_train.groupby(['Pclass']).mean()"
      ],
      "metadata": {
        "colab": {
          "base_uri": "https://localhost:8080/",
          "height": 229
        },
        "id": "qifaXJ9HpT3A",
        "outputId": "e6dfbeb0-f9f0-4c27-a2a3-e85af6e37bed"
      },
      "execution_count": 11,
      "outputs": [
        {
          "output_type": "stream",
          "name": "stderr",
          "text": [
            "<ipython-input-11-6114ce195425>:1: FutureWarning: The default value of numeric_only in DataFrameGroupBy.mean is deprecated. In a future version, numeric_only will default to False. Either specify numeric_only or select only columns which should be valid for the function.\n",
            "  df_train.groupby(['Pclass']).mean()\n"
          ]
        },
        {
          "output_type": "execute_result",
          "data": {
            "text/plain": [
              "        Survived        Age     SibSp     Parch       Fare\n",
              "Pclass                                                    \n",
              "1       0.629630  38.233441  0.416667  0.356481  84.154687\n",
              "2       0.472826  29.877630  0.402174  0.380435  20.662183\n",
              "3       0.242363  25.140620  0.615071  0.393075  13.675550"
            ],
            "text/html": [
              "\n",
              "\n",
              "  <div id=\"df-3209490e-3ed1-44eb-8fa6-f7286405e346\">\n",
              "    <div class=\"colab-df-container\">\n",
              "      <div>\n",
              "<style scoped>\n",
              "    .dataframe tbody tr th:only-of-type {\n",
              "        vertical-align: middle;\n",
              "    }\n",
              "\n",
              "    .dataframe tbody tr th {\n",
              "        vertical-align: top;\n",
              "    }\n",
              "\n",
              "    .dataframe thead th {\n",
              "        text-align: right;\n",
              "    }\n",
              "</style>\n",
              "<table border=\"1\" class=\"dataframe\">\n",
              "  <thead>\n",
              "    <tr style=\"text-align: right;\">\n",
              "      <th></th>\n",
              "      <th>Survived</th>\n",
              "      <th>Age</th>\n",
              "      <th>SibSp</th>\n",
              "      <th>Parch</th>\n",
              "      <th>Fare</th>\n",
              "    </tr>\n",
              "    <tr>\n",
              "      <th>Pclass</th>\n",
              "      <th></th>\n",
              "      <th></th>\n",
              "      <th></th>\n",
              "      <th></th>\n",
              "      <th></th>\n",
              "    </tr>\n",
              "  </thead>\n",
              "  <tbody>\n",
              "    <tr>\n",
              "      <th>1</th>\n",
              "      <td>0.629630</td>\n",
              "      <td>38.233441</td>\n",
              "      <td>0.416667</td>\n",
              "      <td>0.356481</td>\n",
              "      <td>84.154687</td>\n",
              "    </tr>\n",
              "    <tr>\n",
              "      <th>2</th>\n",
              "      <td>0.472826</td>\n",
              "      <td>29.877630</td>\n",
              "      <td>0.402174</td>\n",
              "      <td>0.380435</td>\n",
              "      <td>20.662183</td>\n",
              "    </tr>\n",
              "    <tr>\n",
              "      <th>3</th>\n",
              "      <td>0.242363</td>\n",
              "      <td>25.140620</td>\n",
              "      <td>0.615071</td>\n",
              "      <td>0.393075</td>\n",
              "      <td>13.675550</td>\n",
              "    </tr>\n",
              "  </tbody>\n",
              "</table>\n",
              "</div>\n",
              "      <button class=\"colab-df-convert\" onclick=\"convertToInteractive('df-3209490e-3ed1-44eb-8fa6-f7286405e346')\"\n",
              "              title=\"Convert this dataframe to an interactive table.\"\n",
              "              style=\"display:none;\">\n",
              "\n",
              "  <svg xmlns=\"http://www.w3.org/2000/svg\" height=\"24px\"viewBox=\"0 0 24 24\"\n",
              "       width=\"24px\">\n",
              "    <path d=\"M0 0h24v24H0V0z\" fill=\"none\"/>\n",
              "    <path d=\"M18.56 5.44l.94 2.06.94-2.06 2.06-.94-2.06-.94-.94-2.06-.94 2.06-2.06.94zm-11 1L8.5 8.5l.94-2.06 2.06-.94-2.06-.94L8.5 2.5l-.94 2.06-2.06.94zm10 10l.94 2.06.94-2.06 2.06-.94-2.06-.94-.94-2.06-.94 2.06-2.06.94z\"/><path d=\"M17.41 7.96l-1.37-1.37c-.4-.4-.92-.59-1.43-.59-.52 0-1.04.2-1.43.59L10.3 9.45l-7.72 7.72c-.78.78-.78 2.05 0 2.83L4 21.41c.39.39.9.59 1.41.59.51 0 1.02-.2 1.41-.59l7.78-7.78 2.81-2.81c.8-.78.8-2.07 0-2.86zM5.41 20L4 18.59l7.72-7.72 1.47 1.35L5.41 20z\"/>\n",
              "  </svg>\n",
              "      </button>\n",
              "\n",
              "\n",
              "\n",
              "    <div id=\"df-84884140-a742-4b54-b44e-a77cbdea5396\">\n",
              "      <button class=\"colab-df-quickchart\" onclick=\"quickchart('df-84884140-a742-4b54-b44e-a77cbdea5396')\"\n",
              "              title=\"Suggest charts.\"\n",
              "              style=\"display:none;\">\n",
              "\n",
              "<svg xmlns=\"http://www.w3.org/2000/svg\" height=\"24px\"viewBox=\"0 0 24 24\"\n",
              "     width=\"24px\">\n",
              "    <g>\n",
              "        <path d=\"M19 3H5c-1.1 0-2 .9-2 2v14c0 1.1.9 2 2 2h14c1.1 0 2-.9 2-2V5c0-1.1-.9-2-2-2zM9 17H7v-7h2v7zm4 0h-2V7h2v10zm4 0h-2v-4h2v4z\"/>\n",
              "    </g>\n",
              "</svg>\n",
              "      </button>\n",
              "    </div>\n",
              "\n",
              "<style>\n",
              "  .colab-df-quickchart {\n",
              "    background-color: #E8F0FE;\n",
              "    border: none;\n",
              "    border-radius: 50%;\n",
              "    cursor: pointer;\n",
              "    display: none;\n",
              "    fill: #1967D2;\n",
              "    height: 32px;\n",
              "    padding: 0 0 0 0;\n",
              "    width: 32px;\n",
              "  }\n",
              "\n",
              "  .colab-df-quickchart:hover {\n",
              "    background-color: #E2EBFA;\n",
              "    box-shadow: 0px 1px 2px rgba(60, 64, 67, 0.3), 0px 1px 3px 1px rgba(60, 64, 67, 0.15);\n",
              "    fill: #174EA6;\n",
              "  }\n",
              "\n",
              "  [theme=dark] .colab-df-quickchart {\n",
              "    background-color: #3B4455;\n",
              "    fill: #D2E3FC;\n",
              "  }\n",
              "\n",
              "  [theme=dark] .colab-df-quickchart:hover {\n",
              "    background-color: #434B5C;\n",
              "    box-shadow: 0px 1px 3px 1px rgba(0, 0, 0, 0.15);\n",
              "    filter: drop-shadow(0px 1px 2px rgba(0, 0, 0, 0.3));\n",
              "    fill: #FFFFFF;\n",
              "  }\n",
              "</style>\n",
              "\n",
              "    <script>\n",
              "      async function quickchart(key) {\n",
              "        const containerElement = document.querySelector('#' + key);\n",
              "        const charts = await google.colab.kernel.invokeFunction(\n",
              "            'suggestCharts', [key], {});\n",
              "      }\n",
              "    </script>\n",
              "\n",
              "      <script>\n",
              "\n",
              "function displayQuickchartButton(domScope) {\n",
              "  let quickchartButtonEl =\n",
              "    domScope.querySelector('#df-84884140-a742-4b54-b44e-a77cbdea5396 button.colab-df-quickchart');\n",
              "  quickchartButtonEl.style.display =\n",
              "    google.colab.kernel.accessAllowed ? 'block' : 'none';\n",
              "}\n",
              "\n",
              "        displayQuickchartButton(document);\n",
              "      </script>\n",
              "      <style>\n",
              "    .colab-df-container {\n",
              "      display:flex;\n",
              "      flex-wrap:wrap;\n",
              "      gap: 12px;\n",
              "    }\n",
              "\n",
              "    .colab-df-convert {\n",
              "      background-color: #E8F0FE;\n",
              "      border: none;\n",
              "      border-radius: 50%;\n",
              "      cursor: pointer;\n",
              "      display: none;\n",
              "      fill: #1967D2;\n",
              "      height: 32px;\n",
              "      padding: 0 0 0 0;\n",
              "      width: 32px;\n",
              "    }\n",
              "\n",
              "    .colab-df-convert:hover {\n",
              "      background-color: #E2EBFA;\n",
              "      box-shadow: 0px 1px 2px rgba(60, 64, 67, 0.3), 0px 1px 3px 1px rgba(60, 64, 67, 0.15);\n",
              "      fill: #174EA6;\n",
              "    }\n",
              "\n",
              "    [theme=dark] .colab-df-convert {\n",
              "      background-color: #3B4455;\n",
              "      fill: #D2E3FC;\n",
              "    }\n",
              "\n",
              "    [theme=dark] .colab-df-convert:hover {\n",
              "      background-color: #434B5C;\n",
              "      box-shadow: 0px 1px 3px 1px rgba(0, 0, 0, 0.15);\n",
              "      filter: drop-shadow(0px 1px 2px rgba(0, 0, 0, 0.3));\n",
              "      fill: #FFFFFF;\n",
              "    }\n",
              "  </style>\n",
              "\n",
              "      <script>\n",
              "        const buttonEl =\n",
              "          document.querySelector('#df-3209490e-3ed1-44eb-8fa6-f7286405e346 button.colab-df-convert');\n",
              "        buttonEl.style.display =\n",
              "          google.colab.kernel.accessAllowed ? 'block' : 'none';\n",
              "\n",
              "        async function convertToInteractive(key) {\n",
              "          const element = document.querySelector('#df-3209490e-3ed1-44eb-8fa6-f7286405e346');\n",
              "          const dataTable =\n",
              "            await google.colab.kernel.invokeFunction('convertToInteractive',\n",
              "                                                     [key], {});\n",
              "          if (!dataTable) return;\n",
              "\n",
              "          const docLinkHtml = 'Like what you see? Visit the ' +\n",
              "            '<a target=\"_blank\" href=https://colab.research.google.com/notebooks/data_table.ipynb>data table notebook</a>'\n",
              "            + ' to learn more about interactive tables.';\n",
              "          element.innerHTML = '';\n",
              "          dataTable['output_type'] = 'display_data';\n",
              "          await google.colab.output.renderOutput(dataTable, element);\n",
              "          const docLink = document.createElement('div');\n",
              "          docLink.innerHTML = docLinkHtml;\n",
              "          element.appendChild(docLink);\n",
              "        }\n",
              "      </script>\n",
              "    </div>\n",
              "  </div>\n"
            ]
          },
          "metadata": {},
          "execution_count": 11
        }
      ]
    },
    {
      "cell_type": "code",
      "source": [
        "# Replacing the node values in the data frame\n",
        "df_train['Age'] = df_train[['Age','Pclass']].apply(age_approx, axis =1)"
      ],
      "metadata": {
        "id": "QI-wi51TqUGZ"
      },
      "execution_count": 12,
      "outputs": []
    },
    {
      "cell_type": "code",
      "source": [
        "# Checking of any node value after the transfarmation.\n",
        "df_train.isnull().sum()"
      ],
      "metadata": {
        "colab": {
          "base_uri": "https://localhost:8080/"
        },
        "id": "M_bzGBWCrWgk",
        "outputId": "cdf81053-98ae-47e0-fe0e-940aecc5b3ef"
      },
      "execution_count": 13,
      "outputs": [
        {
          "output_type": "execute_result",
          "data": {
            "text/plain": [
              "Survived    0\n",
              "Pclass      0\n",
              "Sex         0\n",
              "Age         0\n",
              "SibSp       0\n",
              "Parch       0\n",
              "Fare        0\n",
              "Embarked    2\n",
              "dtype: int64"
            ]
          },
          "metadata": {},
          "execution_count": 13
        }
      ]
    },
    {
      "cell_type": "code",
      "source": [
        "# Two node variables in the embark which can be withdraw.\n",
        "df_train.dropna(inplace = True)\n",
        "df_train.isnull().sum()"
      ],
      "metadata": {
        "colab": {
          "base_uri": "https://localhost:8080/"
        },
        "id": "31cki9Gyr5_g",
        "outputId": "6e4f39c1-2433-4bfc-88c9-f4354f709512"
      },
      "execution_count": 14,
      "outputs": [
        {
          "output_type": "execute_result",
          "data": {
            "text/plain": [
              "Survived    0\n",
              "Pclass      0\n",
              "Sex         0\n",
              "Age         0\n",
              "SibSp       0\n",
              "Parch       0\n",
              "Fare        0\n",
              "Embarked    0\n",
              "dtype: int64"
            ]
          },
          "metadata": {},
          "execution_count": 14
        }
      ]
    },
    {
      "cell_type": "code",
      "source": [
        "# Checking data types of columns we observe.\n",
        "df_train.dtypes"
      ],
      "metadata": {
        "colab": {
          "base_uri": "https://localhost:8080/"
        },
        "id": "gj_Y-SCFtVaw",
        "outputId": "fa64234f-1598-4650-a8e9-6d5237fdd47c"
      },
      "execution_count": 15,
      "outputs": [
        {
          "output_type": "execute_result",
          "data": {
            "text/plain": [
              "Survived      int64\n",
              "Pclass        int64\n",
              "Sex          object\n",
              "Age         float64\n",
              "SibSp         int64\n",
              "Parch         int64\n",
              "Fare        float64\n",
              "Embarked     object\n",
              "dtype: object"
            ]
          },
          "metadata": {},
          "execution_count": 15
        }
      ]
    },
    {
      "cell_type": "code",
      "source": [
        "# Converting the sex and Embarkment in the Categorical values.\n",
        "df_train_dummied = pd.get_dummies(df_train, columns=[\"Sex\"])"
      ],
      "metadata": {
        "id": "z6uRp8dbuH_4"
      },
      "execution_count": 16,
      "outputs": []
    },
    {
      "cell_type": "code",
      "source": [
        "df_train_dummied = pd.get_dummies(df_train, columns=[\"Embarked\"])"
      ],
      "metadata": {
        "id": "AxvVjOBhvUvu"
      },
      "execution_count": 17,
      "outputs": []
    },
    {
      "cell_type": "code",
      "source": [
        "# Converitng the categorical into dummuies variables.\n",
        "df_train_dummied.head(10)"
      ],
      "metadata": {
        "colab": {
          "base_uri": "https://localhost:8080/",
          "height": 363
        },
        "id": "f9L_I-AsvkXO",
        "outputId": "a3799310-1739-4643-9f58-6f454b8b2c71"
      },
      "execution_count": 18,
      "outputs": [
        {
          "output_type": "execute_result",
          "data": {
            "text/plain": [
              "   Survived  Pclass     Sex   Age  SibSp  Parch     Fare  Embarked_C  \\\n",
              "0         0       3    male  22.0      1      0   7.2500           0   \n",
              "1         1       1  female  38.0      1      0  71.2833           1   \n",
              "2         1       3  female  26.0      0      0   7.9250           0   \n",
              "3         1       1  female  35.0      1      0  53.1000           0   \n",
              "4         0       3    male  35.0      0      0   8.0500           0   \n",
              "5         0       3    male  24.0      0      0   8.4583           0   \n",
              "6         0       1    male  54.0      0      0  51.8625           0   \n",
              "7         0       3    male   2.0      3      1  21.0750           0   \n",
              "8         1       3  female  27.0      0      2  11.1333           0   \n",
              "9         1       2  female  14.0      1      0  30.0708           1   \n",
              "\n",
              "   Embarked_Q  Embarked_S  \n",
              "0           0           1  \n",
              "1           0           0  \n",
              "2           0           1  \n",
              "3           0           1  \n",
              "4           0           1  \n",
              "5           1           0  \n",
              "6           0           1  \n",
              "7           0           1  \n",
              "8           0           1  \n",
              "9           0           0  "
            ],
            "text/html": [
              "\n",
              "\n",
              "  <div id=\"df-1272e8ab-de0a-4e11-a59e-b94b3332d445\">\n",
              "    <div class=\"colab-df-container\">\n",
              "      <div>\n",
              "<style scoped>\n",
              "    .dataframe tbody tr th:only-of-type {\n",
              "        vertical-align: middle;\n",
              "    }\n",
              "\n",
              "    .dataframe tbody tr th {\n",
              "        vertical-align: top;\n",
              "    }\n",
              "\n",
              "    .dataframe thead th {\n",
              "        text-align: right;\n",
              "    }\n",
              "</style>\n",
              "<table border=\"1\" class=\"dataframe\">\n",
              "  <thead>\n",
              "    <tr style=\"text-align: right;\">\n",
              "      <th></th>\n",
              "      <th>Survived</th>\n",
              "      <th>Pclass</th>\n",
              "      <th>Sex</th>\n",
              "      <th>Age</th>\n",
              "      <th>SibSp</th>\n",
              "      <th>Parch</th>\n",
              "      <th>Fare</th>\n",
              "      <th>Embarked_C</th>\n",
              "      <th>Embarked_Q</th>\n",
              "      <th>Embarked_S</th>\n",
              "    </tr>\n",
              "  </thead>\n",
              "  <tbody>\n",
              "    <tr>\n",
              "      <th>0</th>\n",
              "      <td>0</td>\n",
              "      <td>3</td>\n",
              "      <td>male</td>\n",
              "      <td>22.0</td>\n",
              "      <td>1</td>\n",
              "      <td>0</td>\n",
              "      <td>7.2500</td>\n",
              "      <td>0</td>\n",
              "      <td>0</td>\n",
              "      <td>1</td>\n",
              "    </tr>\n",
              "    <tr>\n",
              "      <th>1</th>\n",
              "      <td>1</td>\n",
              "      <td>1</td>\n",
              "      <td>female</td>\n",
              "      <td>38.0</td>\n",
              "      <td>1</td>\n",
              "      <td>0</td>\n",
              "      <td>71.2833</td>\n",
              "      <td>1</td>\n",
              "      <td>0</td>\n",
              "      <td>0</td>\n",
              "    </tr>\n",
              "    <tr>\n",
              "      <th>2</th>\n",
              "      <td>1</td>\n",
              "      <td>3</td>\n",
              "      <td>female</td>\n",
              "      <td>26.0</td>\n",
              "      <td>0</td>\n",
              "      <td>0</td>\n",
              "      <td>7.9250</td>\n",
              "      <td>0</td>\n",
              "      <td>0</td>\n",
              "      <td>1</td>\n",
              "    </tr>\n",
              "    <tr>\n",
              "      <th>3</th>\n",
              "      <td>1</td>\n",
              "      <td>1</td>\n",
              "      <td>female</td>\n",
              "      <td>35.0</td>\n",
              "      <td>1</td>\n",
              "      <td>0</td>\n",
              "      <td>53.1000</td>\n",
              "      <td>0</td>\n",
              "      <td>0</td>\n",
              "      <td>1</td>\n",
              "    </tr>\n",
              "    <tr>\n",
              "      <th>4</th>\n",
              "      <td>0</td>\n",
              "      <td>3</td>\n",
              "      <td>male</td>\n",
              "      <td>35.0</td>\n",
              "      <td>0</td>\n",
              "      <td>0</td>\n",
              "      <td>8.0500</td>\n",
              "      <td>0</td>\n",
              "      <td>0</td>\n",
              "      <td>1</td>\n",
              "    </tr>\n",
              "    <tr>\n",
              "      <th>5</th>\n",
              "      <td>0</td>\n",
              "      <td>3</td>\n",
              "      <td>male</td>\n",
              "      <td>24.0</td>\n",
              "      <td>0</td>\n",
              "      <td>0</td>\n",
              "      <td>8.4583</td>\n",
              "      <td>0</td>\n",
              "      <td>1</td>\n",
              "      <td>0</td>\n",
              "    </tr>\n",
              "    <tr>\n",
              "      <th>6</th>\n",
              "      <td>0</td>\n",
              "      <td>1</td>\n",
              "      <td>male</td>\n",
              "      <td>54.0</td>\n",
              "      <td>0</td>\n",
              "      <td>0</td>\n",
              "      <td>51.8625</td>\n",
              "      <td>0</td>\n",
              "      <td>0</td>\n",
              "      <td>1</td>\n",
              "    </tr>\n",
              "    <tr>\n",
              "      <th>7</th>\n",
              "      <td>0</td>\n",
              "      <td>3</td>\n",
              "      <td>male</td>\n",
              "      <td>2.0</td>\n",
              "      <td>3</td>\n",
              "      <td>1</td>\n",
              "      <td>21.0750</td>\n",
              "      <td>0</td>\n",
              "      <td>0</td>\n",
              "      <td>1</td>\n",
              "    </tr>\n",
              "    <tr>\n",
              "      <th>8</th>\n",
              "      <td>1</td>\n",
              "      <td>3</td>\n",
              "      <td>female</td>\n",
              "      <td>27.0</td>\n",
              "      <td>0</td>\n",
              "      <td>2</td>\n",
              "      <td>11.1333</td>\n",
              "      <td>0</td>\n",
              "      <td>0</td>\n",
              "      <td>1</td>\n",
              "    </tr>\n",
              "    <tr>\n",
              "      <th>9</th>\n",
              "      <td>1</td>\n",
              "      <td>2</td>\n",
              "      <td>female</td>\n",
              "      <td>14.0</td>\n",
              "      <td>1</td>\n",
              "      <td>0</td>\n",
              "      <td>30.0708</td>\n",
              "      <td>1</td>\n",
              "      <td>0</td>\n",
              "      <td>0</td>\n",
              "    </tr>\n",
              "  </tbody>\n",
              "</table>\n",
              "</div>\n",
              "      <button class=\"colab-df-convert\" onclick=\"convertToInteractive('df-1272e8ab-de0a-4e11-a59e-b94b3332d445')\"\n",
              "              title=\"Convert this dataframe to an interactive table.\"\n",
              "              style=\"display:none;\">\n",
              "\n",
              "  <svg xmlns=\"http://www.w3.org/2000/svg\" height=\"24px\"viewBox=\"0 0 24 24\"\n",
              "       width=\"24px\">\n",
              "    <path d=\"M0 0h24v24H0V0z\" fill=\"none\"/>\n",
              "    <path d=\"M18.56 5.44l.94 2.06.94-2.06 2.06-.94-2.06-.94-.94-2.06-.94 2.06-2.06.94zm-11 1L8.5 8.5l.94-2.06 2.06-.94-2.06-.94L8.5 2.5l-.94 2.06-2.06.94zm10 10l.94 2.06.94-2.06 2.06-.94-2.06-.94-.94-2.06-.94 2.06-2.06.94z\"/><path d=\"M17.41 7.96l-1.37-1.37c-.4-.4-.92-.59-1.43-.59-.52 0-1.04.2-1.43.59L10.3 9.45l-7.72 7.72c-.78.78-.78 2.05 0 2.83L4 21.41c.39.39.9.59 1.41.59.51 0 1.02-.2 1.41-.59l7.78-7.78 2.81-2.81c.8-.78.8-2.07 0-2.86zM5.41 20L4 18.59l7.72-7.72 1.47 1.35L5.41 20z\"/>\n",
              "  </svg>\n",
              "      </button>\n",
              "\n",
              "\n",
              "\n",
              "    <div id=\"df-84415225-6bf4-461f-9f53-47e1ea881716\">\n",
              "      <button class=\"colab-df-quickchart\" onclick=\"quickchart('df-84415225-6bf4-461f-9f53-47e1ea881716')\"\n",
              "              title=\"Suggest charts.\"\n",
              "              style=\"display:none;\">\n",
              "\n",
              "<svg xmlns=\"http://www.w3.org/2000/svg\" height=\"24px\"viewBox=\"0 0 24 24\"\n",
              "     width=\"24px\">\n",
              "    <g>\n",
              "        <path d=\"M19 3H5c-1.1 0-2 .9-2 2v14c0 1.1.9 2 2 2h14c1.1 0 2-.9 2-2V5c0-1.1-.9-2-2-2zM9 17H7v-7h2v7zm4 0h-2V7h2v10zm4 0h-2v-4h2v4z\"/>\n",
              "    </g>\n",
              "</svg>\n",
              "      </button>\n",
              "    </div>\n",
              "\n",
              "<style>\n",
              "  .colab-df-quickchart {\n",
              "    background-color: #E8F0FE;\n",
              "    border: none;\n",
              "    border-radius: 50%;\n",
              "    cursor: pointer;\n",
              "    display: none;\n",
              "    fill: #1967D2;\n",
              "    height: 32px;\n",
              "    padding: 0 0 0 0;\n",
              "    width: 32px;\n",
              "  }\n",
              "\n",
              "  .colab-df-quickchart:hover {\n",
              "    background-color: #E2EBFA;\n",
              "    box-shadow: 0px 1px 2px rgba(60, 64, 67, 0.3), 0px 1px 3px 1px rgba(60, 64, 67, 0.15);\n",
              "    fill: #174EA6;\n",
              "  }\n",
              "\n",
              "  [theme=dark] .colab-df-quickchart {\n",
              "    background-color: #3B4455;\n",
              "    fill: #D2E3FC;\n",
              "  }\n",
              "\n",
              "  [theme=dark] .colab-df-quickchart:hover {\n",
              "    background-color: #434B5C;\n",
              "    box-shadow: 0px 1px 3px 1px rgba(0, 0, 0, 0.15);\n",
              "    filter: drop-shadow(0px 1px 2px rgba(0, 0, 0, 0.3));\n",
              "    fill: #FFFFFF;\n",
              "  }\n",
              "</style>\n",
              "\n",
              "    <script>\n",
              "      async function quickchart(key) {\n",
              "        const containerElement = document.querySelector('#' + key);\n",
              "        const charts = await google.colab.kernel.invokeFunction(\n",
              "            'suggestCharts', [key], {});\n",
              "      }\n",
              "    </script>\n",
              "\n",
              "      <script>\n",
              "\n",
              "function displayQuickchartButton(domScope) {\n",
              "  let quickchartButtonEl =\n",
              "    domScope.querySelector('#df-84415225-6bf4-461f-9f53-47e1ea881716 button.colab-df-quickchart');\n",
              "  quickchartButtonEl.style.display =\n",
              "    google.colab.kernel.accessAllowed ? 'block' : 'none';\n",
              "}\n",
              "\n",
              "        displayQuickchartButton(document);\n",
              "      </script>\n",
              "      <style>\n",
              "    .colab-df-container {\n",
              "      display:flex;\n",
              "      flex-wrap:wrap;\n",
              "      gap: 12px;\n",
              "    }\n",
              "\n",
              "    .colab-df-convert {\n",
              "      background-color: #E8F0FE;\n",
              "      border: none;\n",
              "      border-radius: 50%;\n",
              "      cursor: pointer;\n",
              "      display: none;\n",
              "      fill: #1967D2;\n",
              "      height: 32px;\n",
              "      padding: 0 0 0 0;\n",
              "      width: 32px;\n",
              "    }\n",
              "\n",
              "    .colab-df-convert:hover {\n",
              "      background-color: #E2EBFA;\n",
              "      box-shadow: 0px 1px 2px rgba(60, 64, 67, 0.3), 0px 1px 3px 1px rgba(60, 64, 67, 0.15);\n",
              "      fill: #174EA6;\n",
              "    }\n",
              "\n",
              "    [theme=dark] .colab-df-convert {\n",
              "      background-color: #3B4455;\n",
              "      fill: #D2E3FC;\n",
              "    }\n",
              "\n",
              "    [theme=dark] .colab-df-convert:hover {\n",
              "      background-color: #434B5C;\n",
              "      box-shadow: 0px 1px 3px 1px rgba(0, 0, 0, 0.15);\n",
              "      filter: drop-shadow(0px 1px 2px rgba(0, 0, 0, 0.3));\n",
              "      fill: #FFFFFF;\n",
              "    }\n",
              "  </style>\n",
              "\n",
              "      <script>\n",
              "        const buttonEl =\n",
              "          document.querySelector('#df-1272e8ab-de0a-4e11-a59e-b94b3332d445 button.colab-df-convert');\n",
              "        buttonEl.style.display =\n",
              "          google.colab.kernel.accessAllowed ? 'block' : 'none';\n",
              "\n",
              "        async function convertToInteractive(key) {\n",
              "          const element = document.querySelector('#df-1272e8ab-de0a-4e11-a59e-b94b3332d445');\n",
              "          const dataTable =\n",
              "            await google.colab.kernel.invokeFunction('convertToInteractive',\n",
              "                                                     [key], {});\n",
              "          if (!dataTable) return;\n",
              "\n",
              "          const docLinkHtml = 'Like what you see? Visit the ' +\n",
              "            '<a target=\"_blank\" href=https://colab.research.google.com/notebooks/data_table.ipynb>data table notebook</a>'\n",
              "            + ' to learn more about interactive tables.';\n",
              "          element.innerHTML = '';\n",
              "          dataTable['output_type'] = 'display_data';\n",
              "          await google.colab.output.renderOutput(dataTable, element);\n",
              "          const docLink = document.createElement('div');\n",
              "          docLink.innerHTML = docLinkHtml;\n",
              "          element.appendChild(docLink);\n",
              "        }\n",
              "      </script>\n",
              "    </div>\n",
              "  </div>\n"
            ]
          },
          "metadata": {},
          "execution_count": 18
        }
      ]
    },
    {
      "cell_type": "code",
      "source": [
        "# Presenting relation in the given heat map\n",
        "plt.figure(figsize=(12,6))\n",
        "sns.heatmap(df_train_dummied.corr())"
      ],
      "metadata": {
        "colab": {
          "base_uri": "https://localhost:8080/",
          "height": 738
        },
        "id": "rpprU0aRwV1M",
        "outputId": "a3110f9e-3bc1-4d67-a1e8-80fed5fec8a6"
      },
      "execution_count": 20,
      "outputs": [
        {
          "output_type": "stream",
          "name": "stderr",
          "text": [
            "<ipython-input-20-8f8a12b2eb42>:3: FutureWarning: The default value of numeric_only in DataFrame.corr is deprecated. In a future version, it will default to False. Select only valid columns or specify the value of numeric_only to silence this warning.\n",
            "  sns.heatmap(df_train_dummied.corr())\n"
          ]
        },
        {
          "output_type": "execute_result",
          "data": {
            "text/plain": [
              "<Axes: >"
            ]
          },
          "metadata": {},
          "execution_count": 20
        },
        {
          "output_type": "display_data",
          "data": {
            "text/plain": [
              "<Figure size 1200x600 with 2 Axes>"
            ],
            "image/png": "[encoded data removed]"
          },
          "metadata": {}
        }
      ]
    },
    {
      "cell_type": "code",
      "source": [
        "#  , \"Sex_female\", \"Sex_male\" these are the values one included in the data set.\n",
        "used_features = [\"Pclass\", \"Age\", \"SibSp\", \"Parch\", \"Embarked_C\", \"Embarked_S\", \"Embarked_Q\"]\n",
        "X = df_train_dummied[used_features].values\n",
        "Y = df_train_dummied[\"Survived\"]"
      ],
      "metadata": {
        "id": "Oe9LzkVZ0PpR"
      },
      "execution_count": 38,
      "outputs": []
    },
    {
      "cell_type": "code",
      "source": [
        "X_train, X_test, Y_train, y_test = train_test_split(X, Y, test_size=0.5, random_state=2)"
      ],
      "metadata": {
        "id": "0z0Y2al07ioI"
      },
      "execution_count": 29,
      "outputs": []
    },
    {
      "cell_type": "code",
      "source": [
        "# Checking the shapes of Trian and Test Data sets.\n",
        "print(X_train.shape)\n",
        "print(X_test.shape)\n",
        "print(Y_train.shape)\n",
        "print(y_test.shape)"
      ],
      "metadata": {
        "colab": {
          "base_uri": "https://localhost:8080/"
        },
        "id": "cljmXol67nNY",
        "outputId": "281eea1a-c8f1-4a6c-8986-393ec7e2dbee"
      },
      "execution_count": 30,
      "outputs": [
        {
          "output_type": "stream",
          "name": "stdout",
          "text": [
            "(444, 7)\n",
            "(445, 7)\n",
            "(444,)\n",
            "(445,)\n"
          ]
        }
      ]
    },
    {
      "cell_type": "code",
      "source": [
        "#Instantiate and train the classifier using the given code.\n",
        "logReg = LogisticRegression()\n",
        "logReg.fit(X_train,Y_train)"
      ],
      "metadata": {
        "colab": {
          "base_uri": "https://localhost:8080/",
          "height": 74
        },
        "id": "HqlON5f49qrZ",
        "outputId": "1fb1cbfe-f5ea-45ed-a1da-54915febeee0"
      },
      "execution_count": 32,
      "outputs": [
        {
          "output_type": "execute_result",
          "data": {
            "text/plain": [
              "LogisticRegression()"
            ],
            "text/html": [
              "<style>#sk-container-id-1 {color: black;background-color: white;}#sk-container-id-1 pre{padding: 0;}#sk-container-id-1 div.sk-toggleable {background-color: white;}#sk-container-id-1 label.sk-toggleable__label {cursor: pointer;display: block;width: 100%;margin-bottom: 0;padding: 0.3em;box-sizing: border-box;text-align: center;}#sk-container-id-1 label.sk-toggleable__label-arrow:before {content: \"▸\";float: left;margin-right: 0.25em;color: #696969;}#sk-container-id-1 label.sk-toggleable__label-arrow:hover:before {color: black;}#sk-container-id-1 div.sk-estimator:hover label.sk-toggleable__label-arrow:before {color: black;}#sk-container-id-1 div.sk-toggleable__content {max-height: 0;max-width: 0;overflow: hidden;text-align: left;background-color: #f0f8ff;}#sk-container-id-1 div.sk-toggleable__content pre {margin: 0.2em;color: black;border-radius: 0.25em;background-color: #f0f8ff;}#sk-container-id-1 input.sk-toggleable__control:checked~div.sk-toggleable__content {max-height: 200px;max-width: 100%;overflow: auto;}#sk-container-id-1 input.sk-toggleable__control:checked~label.sk-toggleable__label-arrow:before {content: \"▾\";}#sk-container-id-1 div.sk-estimator input.sk-toggleable__control:checked~label.sk-toggleable__label {background-color: #d4ebff;}#sk-container-id-1 div.sk-label input.sk-toggleable__control:checked~label.sk-toggleable__label {background-color: #d4ebff;}#sk-container-id-1 input.sk-hidden--visually {border: 0;clip: rect(1px 1px 1px 1px);clip: rect(1px, 1px, 1px, 1px);height: 1px;margin: -1px;overflow: hidden;padding: 0;position: absolute;width: 1px;}#sk-container-id-1 div.sk-estimator {font-family: monospace;background-color: #f0f8ff;border: 1px dotted black;border-radius: 0.25em;box-sizing: border-box;margin-bottom: 0.5em;}#sk-container-id-1 div.sk-estimator:hover {background-color: #d4ebff;}#sk-container-id-1 div.sk-parallel-item::after {content: \"\";width: 100%;border-bottom: 1px solid gray;flex-grow: 1;}#sk-container-id-1 div.sk-label:hover label.sk-toggleable__label {background-color: #d4ebff;}#sk-container-id-1 div.sk-serial::before {content: \"\";position: absolute;border-left: 1px solid gray;box-sizing: border-box;top: 0;bottom: 0;left: 50%;z-index: 0;}#sk-container-id-1 div.sk-serial {display: flex;flex-direction: column;align-items: center;background-color: white;padding-right: 0.2em;padding-left: 0.2em;position: relative;}#sk-container-id-1 div.sk-item {position: relative;z-index: 1;}#sk-container-id-1 div.sk-parallel {display: flex;align-items: stretch;justify-content: center;background-color: white;position: relative;}#sk-container-id-1 div.sk-item::before, #sk-container-id-1 div.sk-parallel-item::before {content: \"\";position: absolute;border-left: 1px solid gray;box-sizing: border-box;top: 0;bottom: 0;left: 50%;z-index: -1;}#sk-container-id-1 div.sk-parallel-item {display: flex;flex-direction: column;z-index: 1;position: relative;background-color: white;}#sk-container-id-1 div.sk-parallel-item:first-child::after {align-self: flex-end;width: 50%;}#sk-container-id-1 div.sk-parallel-item:last-child::after {align-self: flex-start;width: 50%;}#sk-container-id-1 div.sk-parallel-item:only-child::after {width: 0;}#sk-container-id-1 div.sk-dashed-wrapped {border: 1px dashed gray;margin: 0 0.4em 0.5em 0.4em;box-sizing: border-box;padding-bottom: 0.4em;background-color: white;}#sk-container-id-1 div.sk-label label {font-family: monospace;font-weight: bold;display: inline-block;line-height: 1.2em;}#sk-container-id-1 div.sk-label-container {text-align: center;}#sk-container-id-1 div.sk-container {/* jupyter's `normalize.less` sets `[hidden] { display: none; }` but bootstrap.min.css set `[hidden] { display: none !important; }` so we also need the `!important` here to be able to override the default hidden behavior on the sphinx rendered scikit-learn.org. See: https://github.com/scikit-learn/scikit-learn/issues/21755 */display: inline-block !important;position: relative;}#sk-container-id-1 div.sk-text-repr-fallback {display: none;}</style><div id=\"sk-container-id-1\" class=\"sk-top-container\"><div class=\"sk-text-repr-fallback\"><pre>LogisticRegression()</pre><b>In a Jupyter environment, please rerun this cell to show the HTML representation or trust the notebook. <br />On GitHub, the HTML representation is unable to render, please try loading this page with nbviewer.org.</b></div><div class=\"sk-container\" hidden><div class=\"sk-item\"><div class=\"sk-estimator sk-toggleable\"><input class=\"sk-toggleable__control sk-hidden--visually\" id=\"sk-estimator-id-1\" type=\"checkbox\" checked><label for=\"sk-estimator-id-1\" class=\"sk-toggleable__label sk-toggleable__label-arrow\">LogisticRegression</label><div class=\"sk-toggleable__content\"><pre>LogisticRegression()</pre></div></div></div></div></div>"
            ]
          },
          "metadata": {},
          "execution_count": 32
        }
      ]
    },
    {
      "cell_type": "code",
      "source": [
        "Y_pred = logReg.predict(X_test)\n",
        "metrics.confusion_matrix(y_test,Y_pred)"
      ],
      "metadata": {
        "colab": {
          "base_uri": "https://localhost:8080/"
        },
        "id": "Inwo5YZ__uTp",
        "outputId": "7360323a-a15c-43a0-b246-ed87bba84b3b"
      },
      "execution_count": 33,
      "outputs": [
        {
          "output_type": "execute_result",
          "data": {
            "text/plain": [
              "array([[229,  41],\n",
              "       [ 96,  79]])"
            ]
          },
          "metadata": {},
          "execution_count": 33
        }
      ]
    },
    {
      "cell_type": "code",
      "source": [
        "metrics.accuracy_score(y_test, Y_pred)"
      ],
      "metadata": {
        "colab": {
          "base_uri": "https://localhost:8080/"
        },
        "id": "4bCyM9Li_yb7",
        "outputId": "aac2e32b-1a7f-4303-9f0e-2f34a00a9a5e"
      },
      "execution_count": 34,
      "outputs": [
        {
          "output_type": "execute_result",
          "data": {
            "text/plain": [
              "0.6921348314606741"
            ]
          },
          "metadata": {},
          "execution_count": 34
        }
      ]
    },
    {
      "cell_type": "markdown",
      "source": [
        "** Which basically is the accuracy of our model. Out of 100 it correctly predicted the 70% of survival of the Given passangers.**"
      ],
      "metadata": {
        "id": "zoYuc_EIBhHx"
      }
    },
    {
      "cell_type": "code",
      "source": [
        "# Otehr performance measures from the given confussion matrix.\n",
        "print(classification_report(y_test, Y_pred))"
      ],
      "metadata": {
        "colab": {
          "base_uri": "https://localhost:8080/"
        },
        "id": "lLaOpOQOAWo3",
        "outputId": "06e18195-8f2e-4b15-89a3-adbfb46292e1"
      },
      "execution_count": 35,
      "outputs": [
        {
          "output_type": "stream",
          "name": "stdout",
          "text": [
            "              precision    recall  f1-score   support\n",
            "\n",
            "           0       0.70      0.85      0.77       270\n",
            "           1       0.66      0.45      0.54       175\n",
            "\n",
            "    accuracy                           0.69       445\n",
            "   macro avg       0.68      0.65      0.65       445\n",
            "weighted avg       0.69      0.69      0.68       445\n",
            "\n"
          ]
        }
      ]
    },
    {
      "cell_type": "markdown",
      "source": [
        "** Overall the Algorithm has good precision and good recall score**"
      ],
      "metadata": {
        "id": "gZXMwtFgBIjB"
      }
    },
    {
      "cell_type": "code",
      "source": [
        "# Cofficient of the predicted line can be calculted by the given code as.\n",
        "logReg.coef_"
      ],
      "metadata": {
        "colab": {
          "base_uri": "https://localhost:8080/"
        },
        "id": "M7kIHwPIBR7u",
        "outputId": "04ff51ef-9ca3-4570-88f3-d2d2f3c180f3"
      },
      "execution_count": 37,
      "outputs": [
        {
          "output_type": "execute_result",
          "data": {
            "text/plain": [
              "array([[-1.10711825, -0.04379627, -0.38575887,  0.24626146,  0.33967359,\n",
              "        -0.39580665,  0.05358909]])"
            ]
          },
          "metadata": {},
          "execution_count": 37
        }
      ]
    },
    {
      "cell_type": "code",
      "source": [
        "# intercept of the predicted line can be calculted by the given code as.\n",
        "logReg.intercept_"
      ],
      "metadata": {
        "colab": {
          "base_uri": "https://localhost:8080/"
        },
        "id": "dEyGw_pRFinh",
        "outputId": "48f270c3-59ed-4122-dc32-7fbd01690fb5"
      },
      "execution_count": 40,
      "outputs": [
        {
          "output_type": "execute_result",
          "data": {
            "text/plain": [
              "array([3.54698275])"
            ]
          },
          "metadata": {},
          "execution_count": 40
        }
      ]
    },
    {
      "cell_type": "code",
      "source": [
        "# further probabalities of the given algorithm are calculated as\n",
        "df_train_dummied[used_features].columns"
      ],
      "metadata": {
        "colab": {
          "base_uri": "https://localhost:8080/"
        },
        "id": "-OC7bQo2GCy7",
        "outputId": "0bd83cd0-05ba-4837-d98f-47bad0be395e"
      },
      "execution_count": 41,
      "outputs": [
        {
          "output_type": "execute_result",
          "data": {
            "text/plain": [
              "Index(['Pclass', 'Age', 'SibSp', 'Parch', 'Embarked_C', 'Embarked_S',\n",
              "       'Embarked_Q'],\n",
              "      dtype='object')"
            ]
          },
          "metadata": {},
          "execution_count": 41
        }
      ]
    },
    {
      "cell_type": "code",
      "source": [
        "# First is the entry has survived the label.\n",
        "logReg.predict_proba(X_test)"
      ],
      "metadata": {
        "colab": {
          "base_uri": "https://localhost:8080/"
        },
        "id": "JKDRybpbGlPz",
        "outputId": "1e42e81b-4d17-42c7-b0e5-d45244e1ab4d"
      },
      "execution_count": 42,
      "outputs": [
        {
          "output_type": "execute_result",
          "data": {
            "text/plain": [
              "array([[0.68393034, 0.31606966],\n",
              "       [0.74836296, 0.25163704],\n",
              "       [0.50185171, 0.49814829],\n",
              "       [0.65192571, 0.34807429],\n",
              "       [0.88898346, 0.11101654],\n",
              "       [0.53940988, 0.46059012],\n",
              "       [0.81147819, 0.18852181],\n",
              "       [0.8555028 , 0.1444972 ],\n",
              "       [0.71448622, 0.28551378],\n",
              "       [0.63267876, 0.36732124],\n",
              "       [0.64472458, 0.35527542],\n",
              "       [0.44044546, 0.55955454],\n",
              "       [0.81333922, 0.18666078],\n",
              "       [0.77229034, 0.22770966],\n",
              "       [0.77229034, 0.22770966],\n",
              "       [0.33938112, 0.66061888],\n",
              "       [0.58252617, 0.41747383],\n",
              "       [0.91020953, 0.08979047],\n",
              "       [0.49419272, 0.50580728],\n",
              "       [0.80162381, 0.19837619],\n",
              "       [0.50395353, 0.49604647],\n",
              "       [0.89482578, 0.10517422],\n",
              "       [0.49054189, 0.50945811],\n",
              "       [0.85597239, 0.14402761],\n",
              "       [0.46291654, 0.53708346],\n",
              "       [0.74836296, 0.25163704],\n",
              "       [0.68393034, 0.31606966],\n",
              "       [0.70493688, 0.29506312],\n",
              "       [0.20968895, 0.79031105],\n",
              "       [0.23525069, 0.76474931],\n",
              "       [0.74002607, 0.25997393],\n",
              "       [0.97843404, 0.02156596],\n",
              "       [0.64472458, 0.35527542],\n",
              "       [0.76090586, 0.23909414],\n",
              "       [0.77229034, 0.22770966],\n",
              "       [0.84483346, 0.15516654],\n",
              "       [0.32515749, 0.67484251],\n",
              "       [0.65469156, 0.34530844],\n",
              "       [0.40414897, 0.59585103],\n",
              "       [0.40075315, 0.59924685],\n",
              "       [0.58252617, 0.41747383],\n",
              "       [0.69315507, 0.30684493],\n",
              "       [0.83300114, 0.16699886],\n",
              "       [0.73151208, 0.26848792],\n",
              "       [0.63463046, 0.36536954],\n",
              "       [0.23883521, 0.76116479],\n",
              "       [0.24520786, 0.75479214],\n",
              "       [0.97843404, 0.02156596],\n",
              "       [0.59825905, 0.40174095],\n",
              "       [0.5610833 , 0.4389167 ],\n",
              "       [0.74240711, 0.25759289],\n",
              "       [0.54724661, 0.45275339],\n",
              "       [0.51077197, 0.48922803],\n",
              "       [0.76229105, 0.23770895],\n",
              "       [0.9094708 , 0.0905292 ],\n",
              "       [0.60919317, 0.39080683],\n",
              "       [0.61911862, 0.38088138],\n",
              "       [0.77229034, 0.22770966],\n",
              "       [0.75146044, 0.24853956],\n",
              "       [0.46868367, 0.53131633],\n",
              "       [0.71146376, 0.28853624],\n",
              "       [0.4186802 , 0.5813198 ],\n",
              "       [0.89367097, 0.10632903],\n",
              "       [0.82917165, 0.17082835],\n",
              "       [0.87625327, 0.12374673],\n",
              "       [0.41898367, 0.58101633],\n",
              "       [0.51453669, 0.48546331],\n",
              "       [0.58175868, 0.41824132],\n",
              "       [0.51794783, 0.48205217],\n",
              "       [0.7983245 , 0.2016755 ],\n",
              "       [0.63481095, 0.36518905],\n",
              "       [0.96804973, 0.03195027],\n",
              "       [0.50359166, 0.49640834],\n",
              "       [0.80162381, 0.19837619],\n",
              "       [0.62244283, 0.37755717],\n",
              "       [0.46327646, 0.53672354],\n",
              "       [0.5028774 , 0.4971226 ],\n",
              "       [0.29890823, 0.70109177],\n",
              "       [0.39565662, 0.60434338],\n",
              "       [0.77990029, 0.22009971],\n",
              "       [0.47607975, 0.52392025],\n",
              "       [0.39565662, 0.60434338],\n",
              "       [0.68393034, 0.31606966],\n",
              "       [0.80162381, 0.19837619],\n",
              "       [0.28252195, 0.71747805],\n",
              "       [0.94118441, 0.05881559],\n",
              "       [0.5990656 , 0.4009344 ],\n",
              "       [0.46291654, 0.53708346],\n",
              "       [0.55027044, 0.44972956],\n",
              "       [0.53940988, 0.46059012],\n",
              "       [0.49820048, 0.50179952],\n",
              "       [0.87709761, 0.12290239],\n",
              "       [0.77229034, 0.22770966],\n",
              "       [0.88629256, 0.11370744],\n",
              "       [0.77229034, 0.22770966],\n",
              "       [0.77229034, 0.22770966],\n",
              "       [0.53666016, 0.46333984],\n",
              "       [0.19697049, 0.80302951],\n",
              "       [0.61911862, 0.38088138],\n",
              "       [0.79319133, 0.20680867],\n",
              "       [0.23883521, 0.76116479],\n",
              "       [0.25367782, 0.74632218],\n",
              "       [0.68393034, 0.31606966],\n",
              "       [0.15078882, 0.84921118],\n",
              "       [0.83900513, 0.16099487],\n",
              "       [0.59608047, 0.40391953],\n",
              "       [0.44114949, 0.55885051],\n",
              "       [0.78385298, 0.21614702],\n",
              "       [0.7945671 , 0.2054329 ],\n",
              "       [0.78732596, 0.21267404],\n",
              "       [0.39565662, 0.60434338],\n",
              "       [0.83849065, 0.16150935],\n",
              "       [0.77229034, 0.22770966],\n",
              "       [0.57703752, 0.42296248],\n",
              "       [0.58449677, 0.41550323],\n",
              "       [0.81846244, 0.18153756],\n",
              "       [0.69916817, 0.30083183],\n",
              "       [0.59214641, 0.40785359],\n",
              "       [0.49054189, 0.50945811],\n",
              "       [0.76292557, 0.23707443],\n",
              "       [0.89482578, 0.10517422],\n",
              "       [0.74620383, 0.25379617],\n",
              "       [0.58252617, 0.41747383],\n",
              "       [0.65469156, 0.34530844],\n",
              "       [0.46291654, 0.53708346],\n",
              "       [0.20252331, 0.79747669],\n",
              "       [0.60366146, 0.39633854],\n",
              "       [0.93919457, 0.06080543],\n",
              "       [0.73151208, 0.26848792],\n",
              "       [0.91372519, 0.08627481],\n",
              "       [0.61911862, 0.38088138],\n",
              "       [0.44122319, 0.55877681],\n",
              "       [0.61713405, 0.38286595],\n",
              "       [0.6742166 , 0.3257834 ],\n",
              "       [0.77779696, 0.22220304],\n",
              "       [0.74988686, 0.25011314],\n",
              "       [0.68376203, 0.31623797],\n",
              "       [0.10807763, 0.89192237],\n",
              "       [0.78732596, 0.21267404],\n",
              "       [0.83300114, 0.16699886],\n",
              "       [0.49832151, 0.50167849],\n",
              "       [0.28623056, 0.71376944],\n",
              "       [0.25340386, 0.74659614],\n",
              "       [0.75652045, 0.24347955],\n",
              "       [0.39565662, 0.60434338],\n",
              "       [0.47960302, 0.52039698],\n",
              "       [0.77611832, 0.22388168],\n",
              "       [0.81021453, 0.18978547],\n",
              "       [0.72282369, 0.27717631],\n",
              "       [0.59313692, 0.40686308],\n",
              "       [0.73304313, 0.26695687],\n",
              "       [0.87142551, 0.12857449],\n",
              "       [0.77229034, 0.22770966],\n",
              "       [0.68393034, 0.31606966],\n",
              "       [0.52851176, 0.47148824],\n",
              "       [0.85155435, 0.14844565],\n",
              "       [0.54461503, 0.45538497],\n",
              "       [0.77229034, 0.22770966],\n",
              "       [0.59332476, 0.40667524],\n",
              "       [0.56214313, 0.43785687],\n",
              "       [0.39565662, 0.60434338],\n",
              "       [0.08616424, 0.91383576],\n",
              "       [0.13991211, 0.86008789],\n",
              "       [0.69055169, 0.30944831],\n",
              "       [0.76612333, 0.23387667],\n",
              "       [0.58252617, 0.41747383],\n",
              "       [0.54516267, 0.45483733],\n",
              "       [0.86228945, 0.13771055],\n",
              "       [0.73235669, 0.26764331],\n",
              "       [0.59313692, 0.40686308],\n",
              "       [0.83300114, 0.16699886],\n",
              "       [0.72282369, 0.27717631],\n",
              "       [0.47382135, 0.52617865],\n",
              "       [0.11011552, 0.88988448],\n",
              "       [0.80849654, 0.19150346],\n",
              "       [0.80849654, 0.19150346],\n",
              "       [0.90278886, 0.09721114],\n",
              "       [0.78732596, 0.21267404],\n",
              "       [0.66179664, 0.33820336],\n",
              "       [0.26353272, 0.73646728],\n",
              "       [0.61889511, 0.38110489],\n",
              "       [0.90278886, 0.09721114],\n",
              "       [0.40905168, 0.59094832],\n",
              "       [0.74002607, 0.25997393],\n",
              "       [0.76090586, 0.23909414],\n",
              "       [0.77229034, 0.22770966],\n",
              "       [0.50101248, 0.49898752],\n",
              "       [0.38523369, 0.61476631],\n",
              "       [0.19891147, 0.80108853],\n",
              "       [0.76375723, 0.23624277],\n",
              "       [0.32529987, 0.67470013],\n",
              "       [0.89400356, 0.10599644],\n",
              "       [0.7736608 , 0.2263392 ],\n",
              "       [0.89400356, 0.10599644],\n",
              "       [0.85982267, 0.14017733],\n",
              "       [0.65192571, 0.34807429],\n",
              "       [0.84593242, 0.15406758],\n",
              "       [0.5175864 , 0.4824136 ],\n",
              "       [0.67236719, 0.32763281],\n",
              "       [0.89063216, 0.10936784],\n",
              "       [0.77229034, 0.22770966],\n",
              "       [0.65462396, 0.34537604],\n",
              "       [0.74988686, 0.25011314],\n",
              "       [0.75652045, 0.24347955],\n",
              "       [0.77229034, 0.22770966],\n",
              "       [0.49569563, 0.50430437],\n",
              "       [0.80650037, 0.19349963],\n",
              "       [0.61394151, 0.38605849],\n",
              "       [0.45630226, 0.54369774],\n",
              "       [0.68011489, 0.31988511],\n",
              "       [0.59313692, 0.40686308],\n",
              "       [0.64192256, 0.35807744],\n",
              "       [0.68111562, 0.31888438],\n",
              "       [0.31576197, 0.68423803],\n",
              "       [0.73743607, 0.26256393],\n",
              "       [0.77229034, 0.22770966],\n",
              "       [0.97843404, 0.02156596],\n",
              "       [0.48717094, 0.51282906],\n",
              "       [0.68393034, 0.31606966],\n",
              "       [0.88180363, 0.11819637],\n",
              "       [0.91711574, 0.08288426],\n",
              "       [0.42746364, 0.57253636],\n",
              "       [0.68393034, 0.31606966],\n",
              "       [0.80162381, 0.19837619],\n",
              "       [0.70681711, 0.29318289],\n",
              "       [0.74002607, 0.25997393],\n",
              "       [0.80849654, 0.19150346],\n",
              "       [0.77229034, 0.22770966],\n",
              "       [0.22327735, 0.77672265],\n",
              "       [0.81917217, 0.18082783],\n",
              "       [0.75652045, 0.24347955],\n",
              "       [0.38324446, 0.61675554],\n",
              "       [0.72282369, 0.27717631],\n",
              "       [0.66469793, 0.33530207],\n",
              "       [0.74421681, 0.25578319],\n",
              "       [0.19013491, 0.80986509],\n",
              "       [0.67887064, 0.32112936],\n",
              "       [0.54142378, 0.45857622],\n",
              "       [0.80840394, 0.19159606],\n",
              "       [0.15078882, 0.84921118],\n",
              "       [0.74836296, 0.25163704],\n",
              "       [0.80849654, 0.19150346],\n",
              "       [0.82169344, 0.17830656],\n",
              "       [0.77990029, 0.22009971],\n",
              "       [0.57183846, 0.42816154],\n",
              "       [0.72295366, 0.27704634],\n",
              "       [0.78732596, 0.21267404],\n",
              "       [0.77229034, 0.22770966],\n",
              "       [0.52851176, 0.47148824],\n",
              "       [0.29148352, 0.70851648],\n",
              "       [0.79256665, 0.20743335],\n",
              "       [0.74002607, 0.25997393],\n",
              "       [0.68376203, 0.31623797],\n",
              "       [0.1876047 , 0.8123953 ],\n",
              "       [0.75652045, 0.24347955],\n",
              "       [0.77229034, 0.22770966],\n",
              "       [0.70799966, 0.29200034],\n",
              "       [0.48170176, 0.51829824],\n",
              "       [0.76090586, 0.23909414],\n",
              "       [0.75652045, 0.24347955],\n",
              "       [0.70681711, 0.29318289],\n",
              "       [0.83408471, 0.16591529],\n",
              "       [0.73151208, 0.26848792],\n",
              "       [0.1876047 , 0.8123953 ],\n",
              "       [0.52851176, 0.47148824],\n",
              "       [0.89063216, 0.10936784],\n",
              "       [0.61911862, 0.38088138],\n",
              "       [0.74605637, 0.25394363],\n",
              "       [0.1876047 , 0.8123953 ],\n",
              "       [0.69315507, 0.30684493],\n",
              "       [0.73151208, 0.26848792],\n",
              "       [0.9287431 , 0.0712569 ],\n",
              "       [0.52677708, 0.47322292],\n",
              "       [0.90656525, 0.09343475],\n",
              "       [0.74836296, 0.25163704],\n",
              "       [0.67579604, 0.32420396],\n",
              "       [0.75652045, 0.24347955],\n",
              "       [0.80162381, 0.19837619],\n",
              "       [0.77779696, 0.22220304],\n",
              "       [0.39565662, 0.60434338],\n",
              "       [0.16722179, 0.83277821],\n",
              "       [0.86128803, 0.13871197],\n",
              "       [0.55823379, 0.44176621],\n",
              "       [0.90952002, 0.09047998],\n",
              "       [0.89733813, 0.10266187],\n",
              "       [0.77229034, 0.22770966],\n",
              "       [0.1876047 , 0.8123953 ],\n",
              "       [0.42762243, 0.57237757],\n",
              "       [0.85155435, 0.14844565],\n",
              "       [0.35669806, 0.64330194],\n",
              "       [0.58252617, 0.41747383],\n",
              "       [0.30476217, 0.69523783],\n",
              "       [0.76090586, 0.23909414],\n",
              "       [0.75122372, 0.24877628],\n",
              "       [0.15287724, 0.84712276],\n",
              "       [0.77229034, 0.22770966],\n",
              "       [0.61889511, 0.38110489],\n",
              "       [0.76090586, 0.23909414],\n",
              "       [0.75652045, 0.24347955],\n",
              "       [0.82169344, 0.17830656],\n",
              "       [0.35118157, 0.64881843],\n",
              "       [0.28088121, 0.71911879],\n",
              "       [0.61911862, 0.38088138],\n",
              "       [0.28252195, 0.71747805],\n",
              "       [0.77229034, 0.22770966],\n",
              "       [0.31576197, 0.68423803],\n",
              "       [0.72282369, 0.27717631],\n",
              "       [0.58252617, 0.41747383],\n",
              "       [0.44902411, 0.55097589],\n",
              "       [0.68393034, 0.31606966],\n",
              "       [0.72282369, 0.27717631],\n",
              "       [0.68393034, 0.31606966],\n",
              "       [0.68393034, 0.31606966],\n",
              "       [0.86740806, 0.13259194],\n",
              "       [0.81518606, 0.18481394],\n",
              "       [0.73151208, 0.26848792],\n",
              "       [0.71396408, 0.28603592],\n",
              "       [0.44918463, 0.55081537],\n",
              "       [0.82802003, 0.17197997],\n",
              "       [0.84122358, 0.15877642],\n",
              "       [0.46868367, 0.53131633],\n",
              "       [0.70493688, 0.29506312],\n",
              "       [0.74002607, 0.25997393],\n",
              "       [0.89403189, 0.10596811],\n",
              "       [0.76154679, 0.23845321],\n",
              "       [0.49054189, 0.50945811],\n",
              "       [0.48189612, 0.51810388],\n",
              "       [0.63463046, 0.36536954],\n",
              "       [0.08906872, 0.91093128],\n",
              "       [0.82802003, 0.17197997],\n",
              "       [0.52887246, 0.47112754],\n",
              "       [0.54468918, 0.45531082],\n",
              "       [0.77856556, 0.22143444],\n",
              "       [0.28795133, 0.71204867],\n",
              "       [0.68393034, 0.31606966],\n",
              "       [0.63954767, 0.36045233],\n",
              "       [0.80508313, 0.19491687],\n",
              "       [0.81518606, 0.18481394],\n",
              "       [0.80719142, 0.19280858],\n",
              "       [0.47382135, 0.52617865],\n",
              "       [0.81675751, 0.18324249],\n",
              "       [0.77229034, 0.22770966],\n",
              "       [0.53981963, 0.46018037],\n",
              "       [0.74836296, 0.25163704],\n",
              "       [0.80659871, 0.19340129],\n",
              "       [0.91711574, 0.08288426],\n",
              "       [0.86228945, 0.13771055],\n",
              "       [0.58745936, 0.41254064],\n",
              "       [0.16336851, 0.83663149],\n",
              "       [0.86180152, 0.13819848],\n",
              "       [0.44122319, 0.55877681],\n",
              "       [0.32478291, 0.67521709],\n",
              "       [0.49280535, 0.50719465],\n",
              "       [0.74002607, 0.25997393],\n",
              "       [0.51866116, 0.48133884],\n",
              "       [0.74002607, 0.25997393],\n",
              "       [0.40075315, 0.59924685],\n",
              "       [0.78732596, 0.21267404],\n",
              "       [0.78732596, 0.21267404],\n",
              "       [0.47794076, 0.52205924],\n",
              "       [0.12188613, 0.87811387],\n",
              "       [0.63463046, 0.36536954],\n",
              "       [0.51656188, 0.48343812],\n",
              "       [0.3348403 , 0.6651597 ],\n",
              "       [0.43837444, 0.56162556],\n",
              "       [0.073951  , 0.926049  ],\n",
              "       [0.16235147, 0.83764853],\n",
              "       [0.76090586, 0.23909414],\n",
              "       [0.33959364, 0.66040636],\n",
              "       [0.60384769, 0.39615231],\n",
              "       [0.40617524, 0.59382476],\n",
              "       [0.49832151, 0.50167849],\n",
              "       [0.83528609, 0.16471391],\n",
              "       [0.59825905, 0.40174095],\n",
              "       [0.45103101, 0.54896899],\n",
              "       [0.48170176, 0.51829824],\n",
              "       [0.3385288 , 0.6614712 ],\n",
              "       [0.20132117, 0.79867883],\n",
              "       [0.82396006, 0.17603994],\n",
              "       [0.24997163, 0.75002837],\n",
              "       [0.30623888, 0.69376112],\n",
              "       [0.39565662, 0.60434338],\n",
              "       [0.93178021, 0.06821979],\n",
              "       [0.78732596, 0.21267404],\n",
              "       [0.44694497, 0.55305503],\n",
              "       [0.7793291 , 0.2206709 ],\n",
              "       [0.40254594, 0.59745406],\n",
              "       [0.16722179, 0.83277821],\n",
              "       [0.84941616, 0.15058384],\n",
              "       [0.77229034, 0.22770966],\n",
              "       [0.77229034, 0.22770966],\n",
              "       [0.67236719, 0.32763281],\n",
              "       [0.44044546, 0.55955454],\n",
              "       [0.49054189, 0.50945811],\n",
              "       [0.77229034, 0.22770966],\n",
              "       [0.61911862, 0.38088138],\n",
              "       [0.70493688, 0.29506312],\n",
              "       [0.54516267, 0.45483733],\n",
              "       [0.61066806, 0.38933194],\n",
              "       [0.68393034, 0.31606966],\n",
              "       [0.31562181, 0.68437819],\n",
              "       [0.73151208, 0.26848792],\n",
              "       [0.73151208, 0.26848792],\n",
              "       [0.38523369, 0.61476631],\n",
              "       [0.51243633, 0.48756367],\n",
              "       [0.43837444, 0.56162556],\n",
              "       [0.43837444, 0.56162556],\n",
              "       [0.57703752, 0.42296248],\n",
              "       [0.75297177, 0.24702823],\n",
              "       [0.81509596, 0.18490404],\n",
              "       [0.16944314, 0.83055686],\n",
              "       [0.70507182, 0.29492818],\n",
              "       [0.40652443, 0.59347557],\n",
              "       [0.32963206, 0.67036794],\n",
              "       [0.68393034, 0.31606966],\n",
              "       [0.5175864 , 0.4824136 ],\n",
              "       [0.89731058, 0.10268942],\n",
              "       [0.70507182, 0.29492818],\n",
              "       [0.76090586, 0.23909414],\n",
              "       [0.55109602, 0.44890398],\n",
              "       [0.92838609, 0.07161391],\n",
              "       [0.58252617, 0.41747383],\n",
              "       [0.67453447, 0.32546553],\n",
              "       [0.61194687, 0.38805313],\n",
              "       [0.66903915, 0.33096085],\n",
              "       [0.86423897, 0.13576103],\n",
              "       [0.7983245 , 0.2016755 ],\n",
              "       [0.3401967 , 0.6598033 ],\n",
              "       [0.51453669, 0.48546331],\n",
              "       [0.80719142, 0.19280858],\n",
              "       [0.85700581, 0.14299419],\n",
              "       [0.82802003, 0.17197997],\n",
              "       [0.49820048, 0.50179952],\n",
              "       [0.68393034, 0.31606966],\n",
              "       [0.82396006, 0.17603994],\n",
              "       [0.42746364, 0.57253636],\n",
              "       [0.50148982, 0.49851018],\n",
              "       [0.83416745, 0.16583255],\n",
              "       [0.82627411, 0.17372589],\n",
              "       [0.72200093, 0.27799907],\n",
              "       [0.86228945, 0.13771055],\n",
              "       [0.23096464, 0.76903536],\n",
              "       [0.39565662, 0.60434338],\n",
              "       [0.77990029, 0.22009971],\n",
              "       [0.58252617, 0.41747383]])"
            ]
          },
          "metadata": {},
          "execution_count": 42
        }
      ]
    }
  ]
}